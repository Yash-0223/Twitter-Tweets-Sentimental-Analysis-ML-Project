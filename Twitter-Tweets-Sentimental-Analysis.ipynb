{
 "cells": [
  {
   "cell_type": "code",
   "execution_count": 28,
   "id": "c4089e4a",
   "metadata": {},
   "outputs": [],
   "source": [
    "# Importing Required libraries and modules:\n",
    "\n",
    "import pandas as pd\n",
    "import numpy as np\n",
    "from matplotlib import pyplot as plt\n",
    "import seaborn as sns\n",
    "%matplotlib inline\n",
    "\n",
    "from sklearn.model_selection import train_test_split\n",
    "from sklearn.linear_model import LogisticRegression\n",
    "from sklearn import metrics\n",
    "from sklearn.tree import DecisionTreeClassifier\n",
    "from sklearn.ensemble import RandomForestClassifier"
   ]
  },
  {
   "cell_type": "code",
   "execution_count": 36,
   "id": "c648d140",
   "metadata": {},
   "outputs": [],
   "source": [
    "# importing final data:\n",
    "\n",
    "df = pd.read_csv(\"C:/Users/Yash/Downloads/TTSAP_Final_Data.csv\")"
   ]
  },
  {
   "cell_type": "code",
   "execution_count": 37,
   "id": "cb31b152",
   "metadata": {},
   "outputs": [
    {
     "data": {
      "text/html": [
       "<div>\n",
       "<style scoped>\n",
       "    .dataframe tbody tr th:only-of-type {\n",
       "        vertical-align: middle;\n",
       "    }\n",
       "\n",
       "    .dataframe tbody tr th {\n",
       "        vertical-align: top;\n",
       "    }\n",
       "\n",
       "    .dataframe thead th {\n",
       "        text-align: right;\n",
       "    }\n",
       "</style>\n",
       "<table border=\"1\" class=\"dataframe\">\n",
       "  <thead>\n",
       "    <tr style=\"text-align: right;\">\n",
       "      <th></th>\n",
       "      <th>Ratings</th>\n",
       "      <th>Message</th>\n",
       "    </tr>\n",
       "  </thead>\n",
       "  <tbody>\n",
       "    <tr>\n",
       "      <th>0</th>\n",
       "      <td>3</td>\n",
       "      <td>I am coming to the borders and I will kill you...</td>\n",
       "    </tr>\n",
       "    <tr>\n",
       "      <th>1</th>\n",
       "      <td>3</td>\n",
       "      <td>im getting on borderlands and i will kill you ...</td>\n",
       "    </tr>\n",
       "    <tr>\n",
       "      <th>2</th>\n",
       "      <td>3</td>\n",
       "      <td>im coming on borderlands and i will murder you...</td>\n",
       "    </tr>\n",
       "    <tr>\n",
       "      <th>3</th>\n",
       "      <td>3</td>\n",
       "      <td>im getting on borderlands 2 and i will murder ...</td>\n",
       "    </tr>\n",
       "    <tr>\n",
       "      <th>4</th>\n",
       "      <td>3</td>\n",
       "      <td>im getting into borderlands and i can murder y...</td>\n",
       "    </tr>\n",
       "  </tbody>\n",
       "</table>\n",
       "</div>"
      ],
      "text/plain": [
       "   Ratings                                            Message\n",
       "0        3  I am coming to the borders and I will kill you...\n",
       "1        3  im getting on borderlands and i will kill you ...\n",
       "2        3  im coming on borderlands and i will murder you...\n",
       "3        3  im getting on borderlands 2 and i will murder ...\n",
       "4        3  im getting into borderlands and i can murder y..."
      ]
     },
     "execution_count": 37,
     "metadata": {},
     "output_type": "execute_result"
    }
   ],
   "source": [
    "df.head()"
   ]
  },
  {
   "cell_type": "code",
   "execution_count": 34,
   "id": "5a69a6e4",
   "metadata": {},
   "outputs": [],
   "source": [
    "# Doing Sentiment Intensity Analysis and based on it's score (<>0), categorizing it as Positive or Negative and making a column of it:\n",
    "\n",
    "from nltk.sentiment.vader import SentimentIntensityAnalyzer\n",
    "\n",
    "text_psc = []\n",
    "\n",
    "for i in df[\"Message\"]:\n",
    "    sc = sn.polarity_scores(i)\n",
    "    \n",
    "    if sc['compound'] >= 0:\n",
    "        psc = \"Positive\"\n",
    "    else:\n",
    "        psc = \"Negative\"\n",
    "        \n",
    "    text_psc.append(psc)"
   ]
  },
  {
   "cell_type": "code",
   "execution_count": 35,
   "id": "0c2b5997",
   "metadata": {},
   "outputs": [],
   "source": [
    "df['Sentiment'] = text_psc"
   ]
  },
  {
   "cell_type": "code",
   "execution_count": 15,
   "id": "9d9007dc",
   "metadata": {},
   "outputs": [
    {
     "data": {
      "text/plain": [
       "<AxesSubplot:xlabel='Ratings', ylabel='count'>"
      ]
     },
     "execution_count": 15,
     "metadata": {},
     "output_type": "execute_result"
    },
    {
     "data": {
      "image/png": "[encoded data removed]",
      "text/plain": [
       "<Figure size 640x480 with 1 Axes>"
      ]
     },
     "metadata": {},
     "output_type": "display_data"
    }
   ],
   "source": [
    "# Analyzing the Sentiments for after Sentiment Intensity Analysis:\n",
    "\n",
    "sns.countplot(data= df, x = df['Ratings'],hue= \"Sentiment\")"
   ]
  },
  {
   "cell_type": "code",
   "execution_count": 16,
   "id": "54a36794",
   "metadata": {},
   "outputs": [
    {
     "data": {
      "text/html": [
       "<div>\n",
       "<style scoped>\n",
       "    .dataframe tbody tr th:only-of-type {\n",
       "        vertical-align: middle;\n",
       "    }\n",
       "\n",
       "    .dataframe tbody tr th {\n",
       "        vertical-align: top;\n",
       "    }\n",
       "\n",
       "    .dataframe thead th {\n",
       "        text-align: right;\n",
       "    }\n",
       "</style>\n",
       "<table border=\"1\" class=\"dataframe\">\n",
       "  <thead>\n",
       "    <tr style=\"text-align: right;\">\n",
       "      <th>Sentiment</th>\n",
       "      <th>Negative</th>\n",
       "      <th>Positive</th>\n",
       "    </tr>\n",
       "    <tr>\n",
       "      <th>Ratings</th>\n",
       "      <th></th>\n",
       "      <th></th>\n",
       "    </tr>\n",
       "  </thead>\n",
       "  <tbody>\n",
       "    <tr>\n",
       "      <th>0</th>\n",
       "      <td>4706</td>\n",
       "      <td>8169</td>\n",
       "    </tr>\n",
       "    <tr>\n",
       "      <th>1</th>\n",
       "      <td>12810</td>\n",
       "      <td>9548</td>\n",
       "    </tr>\n",
       "    <tr>\n",
       "      <th>2</th>\n",
       "      <td>6308</td>\n",
       "      <td>11800</td>\n",
       "    </tr>\n",
       "    <tr>\n",
       "      <th>3</th>\n",
       "      <td>3562</td>\n",
       "      <td>17092</td>\n",
       "    </tr>\n",
       "  </tbody>\n",
       "</table>\n",
       "</div>"
      ],
      "text/plain": [
       "Sentiment  Negative  Positive\n",
       "Ratings                      \n",
       "0              4706      8169\n",
       "1             12810      9548\n",
       "2              6308     11800\n",
       "3              3562     17092"
      ]
     },
     "execution_count": 16,
     "metadata": {},
     "output_type": "execute_result"
    }
   ],
   "source": [
    "df.groupby(['Ratings','Sentiment']).size().unstack()"
   ]
  },
  {
   "cell_type": "code",
   "execution_count": 17,
   "id": "a7bac9d6",
   "metadata": {},
   "outputs": [],
   "source": [
    "# Removing special charcters in Message like (/,.''<) etc:\n",
    "\n",
    "import re\n",
    "\n",
    "df[\"Message\"] = df[\"Message\"].apply(lambda x : re.sub(r'[^a-zA-Z0-9\\s]', \"\",x))"
   ]
  },
  {
   "cell_type": "code",
   "execution_count": 18,
   "id": "0b4a2047",
   "metadata": {},
   "outputs": [],
   "source": [
    "# Removing stop words in Message like (I, we, you, they, to) etc:\n",
    "\n",
    "import nltk\n",
    "from nltk.corpus import stopwords\n",
    "import ssl\n",
    "\n",
    "try:\n",
    "    _create_unverified_https_context = ssl._create_unverified_context\n",
    "except AttributeError:\n",
    "    pass\n",
    "else:\n",
    "    ssl._create_default_https_context = _create_unverified_https_context\n",
    "\n",
    "nltk.download('stopwords')"
   ]
  },
  {
   "cell_type": "code",
   "execution_count": 19,
   "id": "38223280",
   "metadata": {},
   "outputs": [],
   "source": [
    "stopwords = stopwords.words(\"english\")\n",
    "\n",
    "df[\"Message\"] = df[\"Message\"].apply(lambda x : \" \".join(i for i in x.split() if i not in stopwords))"
   ]
  },
  {
   "cell_type": "code",
   "execution_count": 20,
   "id": "9cad45f8",
   "metadata": {},
   "outputs": [],
   "source": [
    "# Splitting the data into training and testing sets:\n",
    "\n",
    "from sklearn.model_selection import train_test_split\n",
    "\n",
    "x = df[\"Message\"]\n",
    "y = df['Ratings']\n",
    "\n",
    "X_train, X_test, y_train, y_test = train_test_split(x, y, test_size= 0.25)"
   ]
  },
  {
   "cell_type": "code",
   "execution_count": 21,
   "id": "1072929a",
   "metadata": {},
   "outputs": [],
   "source": [
    "# Vectorization (feature extraxtion) of Message columns(X), to get some distinct features out of the text for the model to train on, by converting text to numerical vectors.\n",
    "# It converts the text in column to numeric:\n",
    "\n",
    "from sklearn.feature_extraction.text import TfidfVectorizer\n",
    "\n",
    "tf = TfidfVectorizer()\n",
    "\n",
    "X_train_v = tf.fit_transform(X_train)\n",
    "X_test_v = tf.transform(X_test)"
   ]
  },
  {
   "cell_type": "code",
   "execution_count": null,
   "id": "d57a218d",
   "metadata": {},
   "outputs": [],
   "source": [
    "# Training the models, finding predictions, checking for accuarcy of the models and finding the best fit model for such prediction:"
   ]
  },
  {
   "cell_type": "code",
   "execution_count": 22,
   "id": "98ccce45",
   "metadata": {},
   "outputs": [
    {
     "name": "stderr",
     "output_type": "stream",
     "text": [
      "C:\\Users\\Yash\\anaconda3\\anavonda_a\\lib\\site-packages\\sklearn\\linear_model\\_logistic.py:814: ConvergenceWarning: lbfgs failed to converge (status=1):\n",
      "STOP: TOTAL NO. of ITERATIONS REACHED LIMIT.\n",
      "\n",
      "Increase the number of iterations (max_iter) or scale the data as shown in:\n",
      "    https://scikit-learn.org/stable/modules/preprocessing.html\n",
      "Please also refer to the documentation for alternative solver options:\n",
      "    https://scikit-learn.org/stable/modules/linear_model.html#logistic-regression\n",
      "  n_iter_i = _check_optimize_result(\n"
     ]
    },
    {
     "data": {
      "text/plain": [
       "0.7632304448889129"
      ]
     },
     "execution_count": 22,
     "metadata": {},
     "output_type": "execute_result"
    }
   ],
   "source": [
    "# Logistic Regression model:\n",
    "\n",
    "lg = LogisticRegression()\n",
    "\n",
    "lg.fit(X_train_v, y_train)\n",
    "\n",
    "Y_pred = lg.predict(X_test_v)\n",
    "\n",
    "metrics.accuracy_score(y_test, Y_pred)"
   ]
  },
  {
   "cell_type": "code",
   "execution_count": 23,
   "id": "aa76edfe",
   "metadata": {},
   "outputs": [
    {
     "name": "stdout",
     "output_type": "stream",
     "text": [
      "              precision    recall  f1-score   support\n",
      "\n",
      "           0       0.79      0.63      0.70      3174\n",
      "           1       0.76      0.85      0.80      5584\n",
      "           2       0.76      0.72      0.74      4594\n",
      "           3       0.76      0.79      0.77      5147\n",
      "\n",
      "    accuracy                           0.76     18499\n",
      "   macro avg       0.77      0.75      0.75     18499\n",
      "weighted avg       0.76      0.76      0.76     18499\n",
      "\n"
     ]
    }
   ],
   "source": [
    "print(metrics.classification_report(y_test, Y_pred))"
   ]
  },
  {
   "cell_type": "code",
   "execution_count": null,
   "id": "eb5223d6",
   "metadata": {},
   "outputs": [],
   "source": [
    "# Decision Tree model:"
   ]
  },
  {
   "cell_type": "code",
   "execution_count": 24,
   "id": "844598ef",
   "metadata": {},
   "outputs": [
    {
     "data": {
      "text/plain": [
       "0.7377696091680631"
      ]
     },
     "execution_count": 24,
     "metadata": {},
     "output_type": "execute_result"
    }
   ],
   "source": [
    "dt = DecisionTreeClassifier()\n",
    "\n",
    "dt.fit(X_train_v, y_train)\n",
    "\n",
    "Y_pred1 = dt.predict(X_test_v)\n",
    "\n",
    "metrics.accuracy_score(y_test, Y_pred1)"
   ]
  },
  {
   "cell_type": "code",
   "execution_count": 25,
   "id": "2ead6c78",
   "metadata": {},
   "outputs": [
    {
     "name": "stdout",
     "output_type": "stream",
     "text": [
      "              precision    recall  f1-score   support\n",
      "\n",
      "           0       0.71      0.65      0.68      3174\n",
      "           1       0.77      0.77      0.77      5584\n",
      "           2       0.70      0.74      0.72      4594\n",
      "           3       0.75      0.75      0.75      5147\n",
      "\n",
      "    accuracy                           0.74     18499\n",
      "   macro avg       0.73      0.73      0.73     18499\n",
      "weighted avg       0.74      0.74      0.74     18499\n",
      "\n"
     ]
    }
   ],
   "source": [
    "print(metrics.classification_report(y_test, Y_pred1))"
   ]
  },
  {
   "cell_type": "code",
   "execution_count": null,
   "id": "0521e81f",
   "metadata": {},
   "outputs": [],
   "source": [
    "# Random Forest model:"
   ]
  },
  {
   "cell_type": "code",
   "execution_count": 26,
   "id": "40ce4f31",
   "metadata": {},
   "outputs": [
    {
     "data": {
      "text/plain": [
       "0.9037785826260879"
      ]
     },
     "execution_count": 26,
     "metadata": {},
     "output_type": "execute_result"
    }
   ],
   "source": [
    "rf = RandomForestClassifier()\n",
    "\n",
    "rf.fit(X_train_v, y_train)\n",
    "\n",
    "Y_pred2 = rf.predict(X_test_v)\n",
    "\n",
    "metrics.accuracy_score(y_test, Y_pred2)"
   ]
  },
  {
   "cell_type": "code",
   "execution_count": 27,
   "id": "027922b8",
   "metadata": {},
   "outputs": [
    {
     "name": "stdout",
     "output_type": "stream",
     "text": [
      "              precision    recall  f1-score   support\n",
      "\n",
      "           0       0.97      0.84      0.90      3174\n",
      "           1       0.90      0.93      0.92      5584\n",
      "           2       0.88      0.90      0.89      4594\n",
      "           3       0.89      0.92      0.91      5147\n",
      "\n",
      "    accuracy                           0.90     18499\n",
      "   macro avg       0.91      0.90      0.90     18499\n",
      "weighted avg       0.91      0.90      0.90     18499\n",
      "\n"
     ]
    }
   ],
   "source": [
    "print(metrics.classification_report(y_test, Y_pred2))"
   ]
  },
  {
   "cell_type": "code",
   "execution_count": null,
   "id": "cf3fcd3e",
   "metadata": {},
   "outputs": [],
   "source": [
    "# Random Forest model with highest accuracy (90%) is found the best fit model for the purpose."
   ]
  }
 ],
 "metadata": {
  "kernelspec": {
   "display_name": "Python 3 (ipykernel)",
   "language": "python",
   "name": "python3"
  },
  "language_info": {
   "codemirror_mode": {
    "name": "ipython",
    "version": 3
   },
   "file_extension": ".py",
   "mimetype": "text/x-python",
   "name": "python",
   "nbconvert_exporter": "python",
   "pygments_lexer": "ipython3",
   "version": "3.9.13"
  }
 },
 "nbformat": 4,
 "nbformat_minor": 5
}
